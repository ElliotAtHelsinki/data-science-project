{
 "cells": [
  {
   "cell_type": "code",
   "execution_count": 5,
   "id": "48538df9-63ee-400a-a19b-17548a4edb53",
   "metadata": {},
   "outputs": [
    {
     "name": "stdout",
     "output_type": "stream",
     "text": [
      "                                      SARIMAX Results                                      \n",
      "===========================================================================================\n",
      "Dep. Variable:                                trip   No. Observations:                48202\n",
      "Model:             SARIMAX(1, 1, 1)x(0, 1, [], 24)   Log Likelihood             -116125.162\n",
      "Date:                             Tue, 01 Oct 2024   AIC                         232256.324\n",
      "Time:                                     19:35:30   BIC                         232282.672\n",
      "Sample:                                          0   HQIC                        232264.592\n",
      "                                           - 48202                                         \n",
      "Covariance Type:                               opg                                         \n",
      "==============================================================================\n",
      "                 coef    std err          z      P>|z|      [0.025      0.975]\n",
      "------------------------------------------------------------------------------\n",
      "ar.L1          0.2166      0.003     84.264      0.000       0.212       0.222\n",
      "ma.L1         -0.9999      0.000  -2226.618      0.000      -1.001      -0.999\n",
      "sigma2         7.2623      0.021    353.498      0.000       7.222       7.303\n",
      "===================================================================================\n",
      "Ljung-Box (L1) (Q):                   6.17   Jarque-Bera (JB):            155271.02\n",
      "Prob(Q):                              0.01   Prob(JB):                         0.00\n",
      "Heteroskedasticity (H):               0.50   Skew:                            -0.03\n",
      "Prob(H) (two-sided):                  0.00   Kurtosis:                        11.79\n",
      "===================================================================================\n",
      "\n",
      "Warnings:\n",
      "[1] Covariance matrix calculated using the outer product of gradients (complex-step).\n"
     ]
    },
    {
     "ename": "KeyError",
     "evalue": "'only integers, slices (`:`), ellipsis (`...`), numpy.newaxis (`None`) and integer or boolean arrays are valid indices'",
     "output_type": "error",
     "traceback": [
      "\u001b[0;31m---------------------------------------------------------------------------\u001b[0m",
      "\u001b[0;31mIndexError\u001b[0m                                Traceback (most recent call last)",
      "File \u001b[0;32m~/venv/lib/python3.12/site-packages/statsmodels/tsa/base/tsa_model.py:184\u001b[0m, in \u001b[0;36mget_index_loc\u001b[0;34m(key, index)\u001b[0m\n\u001b[1;32m    183\u001b[0m \u001b[38;5;28;01mtry\u001b[39;00m:\n\u001b[0;32m--> 184\u001b[0m     \u001b[43mindex\u001b[49m\u001b[43m[\u001b[49m\u001b[43mkey\u001b[49m\u001b[43m]\u001b[49m\n\u001b[1;32m    185\u001b[0m \u001b[38;5;66;03m# We want to raise a KeyError in this case, to keep the exception\u001b[39;00m\n\u001b[1;32m    186\u001b[0m \u001b[38;5;66;03m# consistent across index types.\u001b[39;00m\n\u001b[1;32m    187\u001b[0m \u001b[38;5;66;03m# - Attempting to index with an out-of-bound location (e.g.\u001b[39;00m\n\u001b[0;32m   (...)\u001b[0m\n\u001b[1;32m    192\u001b[0m \u001b[38;5;66;03m#   index is RangeIndex (otherwise will raise an IndexError)\u001b[39;00m\n\u001b[1;32m    193\u001b[0m \u001b[38;5;66;03m#   (as of Pandas 0.22)\u001b[39;00m\n",
      "File \u001b[0;32m~/venv/lib/python3.12/site-packages/pandas/core/indexes/range.py:1024\u001b[0m, in \u001b[0;36mRangeIndex.__getitem__\u001b[0;34m(self, key)\u001b[0m\n\u001b[1;32m   1023\u001b[0m \u001b[38;5;28;01melif\u001b[39;00m is_scalar(key):\n\u001b[0;32m-> 1024\u001b[0m     \u001b[38;5;28;01mraise\u001b[39;00m \u001b[38;5;167;01mIndexError\u001b[39;00m(\n\u001b[1;32m   1025\u001b[0m         \u001b[38;5;124m\"\u001b[39m\u001b[38;5;124monly integers, slices (`:`), \u001b[39m\u001b[38;5;124m\"\u001b[39m\n\u001b[1;32m   1026\u001b[0m         \u001b[38;5;124m\"\u001b[39m\u001b[38;5;124mellipsis (`...`), numpy.newaxis (`None`) \u001b[39m\u001b[38;5;124m\"\u001b[39m\n\u001b[1;32m   1027\u001b[0m         \u001b[38;5;124m\"\u001b[39m\u001b[38;5;124mand integer or boolean \u001b[39m\u001b[38;5;124m\"\u001b[39m\n\u001b[1;32m   1028\u001b[0m         \u001b[38;5;124m\"\u001b[39m\u001b[38;5;124marrays are valid indices\u001b[39m\u001b[38;5;124m\"\u001b[39m\n\u001b[1;32m   1029\u001b[0m     )\n\u001b[1;32m   1030\u001b[0m \u001b[38;5;28;01mreturn\u001b[39;00m \u001b[38;5;28msuper\u001b[39m()\u001b[38;5;241m.\u001b[39m\u001b[38;5;21m__getitem__\u001b[39m(key)\n",
      "\u001b[0;31mIndexError\u001b[0m: only integers, slices (`:`), ellipsis (`...`), numpy.newaxis (`None`) and integer or boolean arrays are valid indices",
      "\nDuring handling of the above exception, another exception occurred:\n",
      "\u001b[0;31mKeyError\u001b[0m                                  Traceback (most recent call last)",
      "Cell \u001b[0;32mIn[5], line 20\u001b[0m\n\u001b[1;32m     17\u001b[0m res \u001b[38;5;241m=\u001b[39m mod\u001b[38;5;241m.\u001b[39mfit(disp\u001b[38;5;241m=\u001b[39m\u001b[38;5;28;01mFalse\u001b[39;00m)\n\u001b[1;32m     18\u001b[0m \u001b[38;5;28mprint\u001b[39m(res\u001b[38;5;241m.\u001b[39msummary())\n\u001b[0;32m---> 20\u001b[0m predict_dy \u001b[38;5;241m=\u001b[39m \u001b[43mres\u001b[49m\u001b[38;5;241;43m.\u001b[39;49m\u001b[43mget_prediction\u001b[49m\u001b[43m(\u001b[49m\u001b[43mdynamic\u001b[49m\u001b[38;5;241;43m=\u001b[39;49m\u001b[38;5;124;43m'\u001b[39;49m\u001b[38;5;124;43m2024-05-01\u001b[39;49m\u001b[38;5;124;43m'\u001b[39;49m\u001b[43m)\u001b[49m\n",
      "File \u001b[0;32m~/venv/lib/python3.12/site-packages/statsmodels/tsa/statespace/mlemodel.py:3345\u001b[0m, in \u001b[0;36mMLEResults.get_prediction\u001b[0;34m(self, start, end, dynamic, information_set, signal_only, index, exog, extend_model, extend_kwargs, **kwargs)\u001b[0m\n\u001b[1;32m   3343\u001b[0m \u001b[38;5;66;03m# Handle `dynamic`\u001b[39;00m\n\u001b[1;32m   3344\u001b[0m \u001b[38;5;28;01mif\u001b[39;00m \u001b[38;5;28misinstance\u001b[39m(dynamic, (\u001b[38;5;28mstr\u001b[39m, dt\u001b[38;5;241m.\u001b[39mdatetime, pd\u001b[38;5;241m.\u001b[39mTimestamp)):\n\u001b[0;32m-> 3345\u001b[0m     dynamic, _, _ \u001b[38;5;241m=\u001b[39m \u001b[38;5;28;43mself\u001b[39;49m\u001b[38;5;241;43m.\u001b[39;49m\u001b[43mmodel\u001b[49m\u001b[38;5;241;43m.\u001b[39;49m\u001b[43m_get_index_loc\u001b[49m\u001b[43m(\u001b[49m\u001b[43mdynamic\u001b[49m\u001b[43m)\u001b[49m\n\u001b[1;32m   3346\u001b[0m     \u001b[38;5;66;03m# Convert to offset relative to start\u001b[39;00m\n\u001b[1;32m   3347\u001b[0m     dynamic \u001b[38;5;241m=\u001b[39m dynamic \u001b[38;5;241m-\u001b[39m start\n",
      "File \u001b[0;32m~/venv/lib/python3.12/site-packages/statsmodels/tsa/base/tsa_model.py:743\u001b[0m, in \u001b[0;36mTimeSeriesModel._get_index_loc\u001b[0;34m(self, key, base_index)\u001b[0m\n\u001b[1;32m    741\u001b[0m \u001b[38;5;28;01mif\u001b[39;00m base_index \u001b[38;5;129;01mis\u001b[39;00m \u001b[38;5;28;01mNone\u001b[39;00m:\n\u001b[1;32m    742\u001b[0m     base_index \u001b[38;5;241m=\u001b[39m \u001b[38;5;28mself\u001b[39m\u001b[38;5;241m.\u001b[39m_index\n\u001b[0;32m--> 743\u001b[0m \u001b[38;5;28;01mreturn\u001b[39;00m \u001b[43mget_index_loc\u001b[49m\u001b[43m(\u001b[49m\u001b[43mkey\u001b[49m\u001b[43m,\u001b[49m\u001b[43m \u001b[49m\u001b[43mbase_index\u001b[49m\u001b[43m)\u001b[49m\n",
      "File \u001b[0;32m~/venv/lib/python3.12/site-packages/statsmodels/tsa/base/tsa_model.py:195\u001b[0m, in \u001b[0;36mget_index_loc\u001b[0;34m(key, index)\u001b[0m\n\u001b[1;32m    185\u001b[0m     \u001b[38;5;66;03m# We want to raise a KeyError in this case, to keep the exception\u001b[39;00m\n\u001b[1;32m    186\u001b[0m     \u001b[38;5;66;03m# consistent across index types.\u001b[39;00m\n\u001b[1;32m    187\u001b[0m     \u001b[38;5;66;03m# - Attempting to index with an out-of-bound location (e.g.\u001b[39;00m\n\u001b[0;32m   (...)\u001b[0m\n\u001b[1;32m    192\u001b[0m     \u001b[38;5;66;03m#   index is RangeIndex (otherwise will raise an IndexError)\u001b[39;00m\n\u001b[1;32m    193\u001b[0m     \u001b[38;5;66;03m#   (as of Pandas 0.22)\u001b[39;00m\n\u001b[1;32m    194\u001b[0m     \u001b[38;5;28;01mexcept\u001b[39;00m (\u001b[38;5;167;01mIndexError\u001b[39;00m, \u001b[38;5;167;01mValueError\u001b[39;00m) \u001b[38;5;28;01mas\u001b[39;00m e:\n\u001b[0;32m--> 195\u001b[0m         \u001b[38;5;28;01mraise\u001b[39;00m \u001b[38;5;167;01mKeyError\u001b[39;00m(\u001b[38;5;28mstr\u001b[39m(e))\n\u001b[1;32m    196\u001b[0m     loc \u001b[38;5;241m=\u001b[39m key\n\u001b[1;32m    197\u001b[0m \u001b[38;5;28;01melse\u001b[39;00m:\n",
      "\u001b[0;31mKeyError\u001b[0m: 'only integers, slices (`:`), ellipsis (`...`), numpy.newaxis (`None`) and integer or boolean arrays are valid indices'"
     ]
    }
   ],
   "source": [
    "import statsmodels.api as sm\n",
    "import pandas as pd\n",
    "import matplotlib.pyplot as plt\n",
    "\n",
    "# There are over 500 stations\n",
    "# and this is a proof of concept\n",
    "# so we will only take a few stations\n",
    "stations = ['Jämeräntaival']\n",
    "\n",
    "data = pd.read_csv('../datasets/' + stations[0] + '_hourly_aggregate.csv')\n",
    "\n",
    "data['trip_I'] = data['trip'].shift(periods=24) - data['trip']\n",
    "\n",
    "# sm.graphics.tsa.plot_pacf(data['trip_I'], lags=200, method=\"ywm\")\n",
    "\n",
    "mod = sm.tsa.statespace.SARIMAX(data['trip'], order=(1,1,1), seasonal_order = (0,1,0,24))\n",
    "res = mod.fit(disp=False)\n",
    "print(res.summary())\n"
   ]
  },
  {
   "cell_type": "code",
   "execution_count": null,
   "id": "940ce973-1ad7-4dc8-8539-4f5da2ad8c80",
   "metadata": {},
   "outputs": [],
   "source": []
  }
 ],
 "metadata": {
  "kernelspec": {
   "display_name": "Python 3 (ipykernel)",
   "language": "python",
   "name": "python3"
  },
  "language_info": {
   "codemirror_mode": {
    "name": "ipython",
    "version": 3
   },
   "file_extension": ".py",
   "mimetype": "text/x-python",
   "name": "python",
   "nbconvert_exporter": "python",
   "pygments_lexer": "ipython3",
   "version": "3.12.3"
  }
 },
 "nbformat": 4,
 "nbformat_minor": 5
}
