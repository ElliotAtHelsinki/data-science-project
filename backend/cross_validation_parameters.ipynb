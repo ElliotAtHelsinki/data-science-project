{
 "cells": [
  {
   "cell_type": "code",
   "execution_count": 1,
   "id": "cd21c67a-e679-43e3-85a4-471a35522d42",
   "metadata": {},
   "outputs": [
    {
     "name": "stdout",
     "output_type": "stream",
     "text": [
      "[(1, 1, 1), (1, 1, 2), (1, 1, 3), (1, 2, 1), (1, 2, 2), (1, 2, 3), (1, 3, 1), (1, 3, 2), (1, 3, 3), (2, 1, 1), (2, 1, 2), (2, 1, 3), (2, 2, 1), (2, 2, 2), (2, 2, 3), (2, 3, 1), (2, 3, 2), (2, 3, 3), (3, 1, 1), (3, 1, 2), (3, 1, 3), (3, 2, 1), (3, 2, 2), (3, 2, 3), (3, 3, 1), (3, 3, 2), (3, 3, 3)]\n",
      "27\n"
     ]
    },
    {
     "data": {
      "text/plain": [
       "\"\\nparam_mse = list()\\nfor param in parameter_space:\\n    model = sm.tsa.statespace.SARIMAX(train_data['trip'], order=param, seasonal_order=(0, 1, 0, 24), freq='h').fit()\\n    forecast = model.forecast(datetime(year=2023,month=10,day=31,hour=17))\\n    forecast = forecast[datetime(year=2023,month=4,day=1):]\\n    #test_data.index = pd.DatetimeIndex(forecast.index)\\n    \\n    final = pd.concat([forecast,test_data], axis=1)\\n    errors = final['trip'] - final['predicted_mean']\\n    mse = np.mean(errors**2)\\n\\n    param_mse.append((mse, param))\\n\\n\""
      ]
     },
     "execution_count": 1,
     "metadata": {},
     "output_type": "execute_result"
    }
   ],
   "source": [
    "import pandas as pd\n",
    "import numpy as np\n",
    "from sklearn.model_selection import TimeSeriesSplit\n",
    "from datetime import datetime\n",
    "import statsmodels.api as sm\n",
    "\n",
    "# Use Kamppi as an example, could be generalized to all stations\n",
    "df = pd.read_csv(\"datasets/Jämeräntaival_hourly_aggregate.csv\")\n",
    "df['Departure'] = pd.to_datetime(df['Departure'], format='mixed')\n",
    "df.set_index('Departure', inplace=True)\n",
    "\n",
    "train_end = datetime(year=2022, month=10, day=31)\n",
    "train_start = datetime(year=2018,month=4,day=1)\n",
    "train_data = df[:train_end]\n",
    "test_end = datetime(year=2023, month=10, day = 31)\n",
    "test_data  = df[datetime(year=2023,month=4,day=1):]\n",
    "\n",
    "parameter_space = list()\n",
    "\n",
    "for i in range(1,4):\n",
    "    for j in range(1,4):\n",
    "        for k in range(1,4):\n",
    "            parameter_space.append((i,j,k))\n",
    "\n",
    "\n",
    "param_mse = list()\n",
    "for param in parameter_space:\n",
    "    model = sm.tsa.statespace.SARIMAX(train_data['trip'], order=param, seasonal_order=(0, 1, 0, 24), freq='h').fit()\n",
    "    forecast = model.forecast(datetime(year=2023,month=10,day=31,hour=17))\n",
    "    forecast = forecast[datetime(year=2023,month=4,day=1):]\n",
    "    #test_data.index = pd.DatetimeIndex(forecast.index)\n",
    "    \n",
    "    final = pd.concat([forecast,test_data], axis=1)\n",
    "    errors = final['trip'] - final['predicted_mean']\n",
    "    mse = np.mean(errors**2)\n",
    "\n",
    "    param_mse.append((mse, param))\n",
    "\n",
    "'''"
   ]
  },
  {
   "cell_type": "code",
   "execution_count": 48,
   "id": "db9591dd-7bfd-46d3-aa50-8a757776aeb0",
   "metadata": {},
   "outputs": [
    {
     "name": "stdout",
     "output_type": "stream",
     "text": [
      "2023-04-01 00:00:00    0.223308\n",
      "2023-04-01 01:00:00   -0.336395\n",
      "2023-04-01 02:00:00   -1.678867\n",
      "2023-04-01 03:00:00   -1.754065\n",
      "2023-04-01 04:00:00    0.229423\n",
      "                         ...   \n",
      "2023-10-31 13:00:00    0.537703\n",
      "2023-10-31 14:00:00   -0.462297\n",
      "2023-10-31 15:00:00   -0.462297\n",
      "2023-10-31 16:00:00    0.537703\n",
      "2023-10-31 17:00:00    0.537703\n",
      "Freq: h, Length: 5130, dtype: float64\n",
      "10.388099588499935\n"
     ]
    }
   ],
   "source": [
    "forecast = model.forecast(datetime(year=2023,month=10,day=31,hour=17))\n",
    "forecast = forecast[datetime(year=2023,month=4,day=1):]\n",
    "#test_data.index = pd.DatetimeIndex(forecast.index)\n",
    "\n",
    "final = pd.concat([forecast,test_data], axis=1)\n",
    "errors = final['trip'] - final['predicted_mean']\n",
    "print(errors)\n",
    "mse = np.mean(errors**2)\n",
    "\n",
    "print(mse)"
   ]
  }
 ],
 "metadata": {
  "kernelspec": {
   "display_name": "env",
   "language": "python",
   "name": "python3"
  },
  "language_info": {
   "codemirror_mode": {
    "name": "ipython",
    "version": 3
   },
   "file_extension": ".py",
   "mimetype": "text/x-python",
   "name": "python",
   "nbconvert_exporter": "python",
   "pygments_lexer": "ipython3",
   "version": "3.12.6"
  }
 },
 "nbformat": 4,
 "nbformat_minor": 5
}
