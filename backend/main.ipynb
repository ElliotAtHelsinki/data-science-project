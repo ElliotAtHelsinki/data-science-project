{
 "cells": [
  {
   "cell_type": "markdown",
   "metadata": {},
   "source": [
    "**Importing Libraries**"
   ]
  },
  {
   "cell_type": "code",
   "execution_count": 1,
   "metadata": {},
   "outputs": [],
   "source": [
    "import pandas as pd\n",
    "import numpy as np\n",
    "import matplotlib.pyplot as plt\n",
    "import seaborn as sns"
   ]
  },
  {
   "cell_type": "markdown",
   "metadata": {},
   "source": [
    "**Preprocessing**"
   ]
  },
  {
   "cell_type": "code",
   "execution_count": 2,
   "metadata": {},
   "outputs": [
    {
     "name": "stderr",
     "output_type": "stream",
     "text": [
      "/tmp/ipykernel_125911/2705809786.py:18: FutureWarning: The behavior of DataFrame concatenation with empty or all-NA entries is deprecated. In a future version, this will no longer exclude empty or all-NA columns when determining the result dtypes. To retain the old behavior, exclude the relevant entries before the concat operation.\n",
      "  bike_df = pd.concat([bike_df, temp_df])\n"
     ]
    }
   ],
   "source": [
    "from os import listdir\n",
    "\n",
    "weather_df = pd.read_csv('datasets/weather_hourly_helsinki.csv')\n",
    "\n",
    "weather_headers = weather_df.loc[0:2, :]\n",
    "\n",
    "weather_df = weather_df.loc[1:, :]\n",
    "weather_df.columns = weather_df.iloc[0]\n",
    "weather_df = weather_df.loc[2:, :]\n",
    "\n",
    "bike_df = pd.DataFrame(columns=['Departure', 'Return', 'Departure station id', 'Departure station name',\n",
    "                       'Return station id', 'Return station name', 'Covered distance (m)', 'Duration (sec.)'])\n",
    "\n",
    "for dataset in listdir('datasets'):\n",
    "  if dataset == 'weather_hourly_helsinki.csv':\n",
    "    continue\n",
    "  temp_df = pd.read_csv('datasets/' + dataset, low_memory=False)\n",
    "  bike_df = pd.concat([bike_df, temp_df])\n",
    "\n",
    "bike_df['Departure'] = pd.to_datetime(bike_df['Departure'], format='mixed')\n",
    "bike_df['Return'] = pd.to_datetime(bike_df['Return'], format='mixed')"
   ]
  },
  {
   "cell_type": "markdown",
   "metadata": {},
   "source": [
    "**Aggregating Data**"
   ]
  },
  {
   "cell_type": "code",
   "execution_count": 2,
   "metadata": {},
   "outputs": [
    {
     "name": "stderr",
     "output_type": "stream",
     "text": [
      "/tmp/ipykernel_130389/2610724372.py:22: DtypeWarning: Columns (0,1) have mixed types. Specify dtype option on import or set low_memory=False.\n",
      "  aggregated = pd.read_csv('datasets/aggregated.csv')\n"
     ]
    },
    {
     "name": "stdout",
     "output_type": "stream",
     "text": [
      "         Departure station id Return station id Departure station name  \\\n",
      "0                         997               997      Workshop Helsinki   \n",
      "1                         997               997      Workshop Helsinki   \n",
      "2                         997               997      Workshop Helsinki   \n",
      "3                         997               997      Workshop Helsinki   \n",
      "4                         997               997      Workshop Helsinki   \n",
      "...                       ...               ...                    ...   \n",
      "16770585                  997               997      Workshop Helsinki   \n",
      "16770586                  997               997      Workshop Helsinki   \n",
      "16770587                  997               997      Workshop Helsinki   \n",
      "16770588                  997               997      Workshop Helsinki   \n",
      "16770589                  997               997      Workshop Helsinki   \n",
      "\n",
      "         Return station name  Trip count            Departure  \n",
      "0          Workshop Helsinki           6  2016-05-02 14:00:00  \n",
      "1          Workshop Helsinki           1  2016-05-02 15:00:00  \n",
      "2          Workshop Helsinki           3  2016-05-02 16:00:00  \n",
      "3          Workshop Helsinki           2  2016-05-02 17:00:00  \n",
      "4          Workshop Helsinki           2  2016-05-06 16:00:00  \n",
      "...                      ...         ...                  ...  \n",
      "16770585   Workshop Helsinki           1  2023-05-30 12:00:00  \n",
      "16770586   Workshop Helsinki           1  2023-05-30 14:00:00  \n",
      "16770587   Workshop Helsinki           1  2023-06-06 15:00:00  \n",
      "16770588   Workshop Helsinki           5  2023-06-07 09:00:00  \n",
      "16770589   Workshop Helsinki           1  2023-07-11 12:00:00  \n",
      "\n",
      "[16770590 rows x 6 columns]\n"
     ]
    }
   ],
   "source": [
    "aggregated = pd.DataFrame(columns=[\n",
    "    'Departure station id',\n",
    "    'Return station id',\n",
    "    'Departure station name',\n",
    "    'Return station name',\n",
    "    'Trip count'\n",
    "])\n",
    "\n",
    "for year in range(2016, 2024):\n",
    "  bike_df_year = bike_df[bike_df['Departure'].dt.year == year]\n",
    "  aggregated_year = bike_df_year.groupby([\n",
    "      'Departure station id',\n",
    "      'Return station id',\n",
    "      'Departure station name',\n",
    "      'Return station name',\n",
    "      pd.Grouper(key='Departure', freq='H'),\n",
    "  ]).size().reset_index(name='Trip count')\n",
    "  aggregated = pd.concat([aggregated, aggregated_year])\n",
    "  aggregated_year.to_csv(f'datasets/aggregated_{year}.csv', index=False)\n",
    "\n",
    "aggregated.to_csv('datasets/aggregated.csv', index=False)\n",
    "print(aggregated)\n"
   ]
  }
 ],
 "metadata": {
  "kernelspec": {
   "display_name": "Python 3",
   "language": "python",
   "name": "python3"
  },
  "language_info": {
   "codemirror_mode": {
    "name": "ipython",
    "version": 3
   },
   "file_extension": ".py",
   "mimetype": "text/x-python",
   "name": "python",
   "nbconvert_exporter": "python",
   "pygments_lexer": "ipython3",
   "version": "3.12.6"
  }
 },
 "nbformat": 4,
 "nbformat_minor": 2
}
