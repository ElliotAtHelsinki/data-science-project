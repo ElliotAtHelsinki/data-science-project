{
 "cells": [
  {
   "cell_type": "code",
   "execution_count": 14,
   "id": "a814e46a-552f-4c8b-b61a-921e1dc874c8",
   "metadata": {},
   "outputs": [
    {
     "name": "stderr",
     "output_type": "stream",
     "text": [
      "/home/aleksi/venv/lib/python3.12/site-packages/statsmodels/tsa/base/tsa_model.py:473: ValueWarning: No frequency information was provided, so inferred frequency h will be used.\n",
      "  self._init_dates(dates, freq)\n"
     ]
    }
   ],
   "source": [
    "from datetime import datetime\n",
    "import pandas as pd\n",
    "import statsmodels.api as sm\n",
    "\n",
    "\n",
    "station = 'Kamppi (M)'\n",
    "\n",
    "days = ['mon', 'tue', 'wed', 'thu', 'fri', 'sat']\n",
    "\n",
    "departure_data = pd.read_csv('./datasets/' + station + 'final_data.csv')\n",
    "\n",
    "departure_data['Departure'] = pd.to_datetime(departure_data['Departure'], format='mixed')\n",
    "\n",
    "departure_data.set_index(departure_data['Departure'], inplace=True)\n",
    "\n",
    "departure_data['trip'] = pd.to_numeric(departure_data['trip'], errors='coerce')\n",
    "\n",
    "departure_data = departure_data.dropna(axis=1)\n",
    "\n",
    "departure_mod = sm.tsa.statespace.SARIMAX(departure_data['trip'], order=(1,1,0), seasonal_order=(0,0,0,0), freq='h')\n",
    "departure_res = departure_mod.fit(disp=False)\n"
   ]
  },
  {
   "cell_type": "code",
   "execution_count": null,
   "id": "e97f26f6-2c5a-4849-9e0d-c0c72fed3fff",
   "metadata": {},
   "outputs": [],
   "source": []
  },
  {
   "cell_type": "code",
   "execution_count": null,
   "id": "65daec11-8506-48a7-a0f2-f78fa80597fe",
   "metadata": {},
   "outputs": [],
   "source": []
  },
  {
   "cell_type": "code",
   "execution_count": null,
   "id": "2d8a23db-5509-4b43-a0bc-7aa2086c9ddf",
   "metadata": {},
   "outputs": [],
   "source": []
  },
  {
   "cell_type": "code",
   "execution_count": null,
   "id": "03e0ae02-cb9e-4257-952e-43cd6345e220",
   "metadata": {},
   "outputs": [],
   "source": []
  },
  {
   "cell_type": "code",
   "execution_count": null,
   "id": "cf9d8da5-aad2-45a8-b124-fa651779fffc",
   "metadata": {},
   "outputs": [],
   "source": []
  },
  {
   "cell_type": "code",
   "execution_count": null,
   "id": "6117b6da-d1f9-458b-9877-8dab5425de23",
   "metadata": {},
   "outputs": [],
   "source": []
  },
  {
   "cell_type": "code",
   "execution_count": null,
   "id": "047915e6-1cac-4028-a277-23fc4e24ed53",
   "metadata": {},
   "outputs": [],
   "source": []
  },
  {
   "cell_type": "code",
   "execution_count": null,
   "id": "ca4c2644-5c88-47a7-907b-6f8138423b70",
   "metadata": {},
   "outputs": [],
   "source": []
  },
  {
   "cell_type": "code",
   "execution_count": null,
   "id": "83f22fdf-5e65-4f55-a5f7-3d51d4bfb9dd",
   "metadata": {},
   "outputs": [],
   "source": []
  },
  {
   "cell_type": "code",
   "execution_count": null,
   "id": "7cd7ebb0-bf48-4a92-a8b2-4f9629102f40",
   "metadata": {},
   "outputs": [],
   "source": []
  },
  {
   "cell_type": "code",
   "execution_count": null,
   "id": "944a1c4f-3603-4f01-b7ff-53b48ccada0c",
   "metadata": {},
   "outputs": [],
   "source": []
  },
  {
   "cell_type": "code",
   "execution_count": null,
   "id": "be4473ba-1c83-4852-bb64-54eb8b0856b5",
   "metadata": {},
   "outputs": [],
   "source": []
  },
  {
   "cell_type": "code",
   "execution_count": null,
   "id": "7b1d195a-1a60-4122-9f99-96dbd88b7559",
   "metadata": {},
   "outputs": [],
   "source": []
  }
 ],
 "metadata": {
  "kernelspec": {
   "display_name": "Python 3 (ipykernel)",
   "language": "python",
   "name": "python3"
  },
  "language_info": {
   "codemirror_mode": {
    "name": "ipython",
    "version": 3
   },
   "file_extension": ".py",
   "mimetype": "text/x-python",
   "name": "python",
   "nbconvert_exporter": "python",
   "pygments_lexer": "ipython3",
   "version": "3.12.3"
  }
 },
 "nbformat": 4,
 "nbformat_minor": 5
}
